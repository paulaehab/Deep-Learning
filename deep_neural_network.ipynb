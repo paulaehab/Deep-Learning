{
 "cells": [
  {
   "cell_type": "markdown",
   "metadata": {},
   "source": [
    "# This notebook is to build deep neural network (forward & backward) propagation using python only from Gokking deep learning Book"
   ]
  },
  {
   "cell_type": "code",
   "execution_count": 13,
   "metadata": {},
   "outputs": [
    {
     "ename": "ValueError",
     "evalue": "operands could not be broadcast together with shapes (3,4) (4,1) (3,4) ",
     "output_type": "error",
     "traceback": [
      "\u001b[1;31m---------------------------------------------------------------------------\u001b[0m",
      "\u001b[1;31mValueError\u001b[0m                                Traceback (most recent call last)",
      "\u001b[1;32md:\\Corelia_projects\\myprojects\\Deep-Learning\\deep_neural_network.ipynb Cell 2'\u001b[0m in \u001b[0;36m<cell line: 21>\u001b[1;34m()\u001b[0m\n\u001b[0;32m     <a href='vscode-notebook-cell:/d%3A/Corelia_projects/myprojects/Deep-Learning/deep_neural_network.ipynb#ch0000001?line=34'>35</a>\u001b[0m     layer_1_delta \u001b[39m=\u001b[39m layer_2_delta\u001b[39m.\u001b[39mdot(weight_1_2\u001b[39m.\u001b[39mT)\u001b[39m*\u001b[39mrelu2drev(layer_1)\n\u001b[0;32m     <a href='vscode-notebook-cell:/d%3A/Corelia_projects/myprojects/Deep-Learning/deep_neural_network.ipynb#ch0000001?line=37'>38</a>\u001b[0m     \u001b[39m#change the wieghts\u001b[39;00m\n\u001b[1;32m---> <a href='vscode-notebook-cell:/d%3A/Corelia_projects/myprojects/Deep-Learning/deep_neural_network.ipynb#ch0000001?line=38'>39</a>\u001b[0m     weight_0_1 \u001b[39m-\u001b[39m\u001b[39m=\u001b[39m alpha \u001b[39m*\u001b[39mlayer_1\u001b[39m.\u001b[39mT\u001b[39m.\u001b[39mdot(layer_2_delta)\n\u001b[0;32m     <a href='vscode-notebook-cell:/d%3A/Corelia_projects/myprojects/Deep-Learning/deep_neural_network.ipynb#ch0000001?line=39'>40</a>\u001b[0m     weight_1_2 \u001b[39m-\u001b[39m\u001b[39m=\u001b[39m alpha\u001b[39m*\u001b[39mlayer_0\u001b[39m.\u001b[39mT\u001b[39m.\u001b[39mdot(layer_1_delta)\n\u001b[0;32m     <a href='vscode-notebook-cell:/d%3A/Corelia_projects/myprojects/Deep-Learning/deep_neural_network.ipynb#ch0000001?line=40'>41</a>\u001b[0m \u001b[39mif\u001b[39;00m(i \u001b[39m%\u001b[39m \u001b[39m10\u001b[39m \u001b[39m==\u001b[39m\u001b[39m9\u001b[39m):\n",
      "\u001b[1;31mValueError\u001b[0m: operands could not be broadcast together with shapes (3,4) (4,1) (3,4) "
     ]
    }
   ],
   "source": [
    "import numpy as np \n",
    "np.random.seed(1)\n",
    "def relu(x):\n",
    "    return (x>0) * x\n",
    "def relu2drev(output): \n",
    "    return output>0\n",
    "\n",
    "\n",
    "alpha = 0.2\n",
    "hiden_size = 4\n",
    "streetlight = np.array([[1,0,1],\n",
    "[0,1,1],\n",
    "[0,0,1],\n",
    "[1,1,1]])\n",
    "\n",
    "walk_vs_stop=np.array([[1,1,0,0]]).T\n",
    "\n",
    "weight_0_1 = 2*np.random.random((3,hiden_size))-1\n",
    "weight_1_2 = 2*np.random.random((hiden_size,1))-1\n",
    "\n",
    "for i in range(60):\n",
    "    #the total error for the final network \n",
    "    layer_2_error =0\n",
    "    for i in range(len(streetlight)):\n",
    "        # all of the following is the forward propogation\n",
    "        layer_0 = streetlight[i:i+1]\n",
    "        layer_1 = relu(np.dot(layer_0 ,weight_0_1))\n",
    "        layer_2 = np.dot(layer_1,weight_1_2)\n",
    "        # know the total error of this stage \n",
    "        layer_2_error += np.sum((layer_2 - walk_vs_stop[i:i+1])**2)\n",
    "\n",
    "        # start the backpropagation of the network\n",
    "        layer_2_delta = (layer_2 - walk_vs_stop[i:i+1])\n",
    "        #thsi step for destroy the neuron who is negative or zero \n",
    "        layer_1_delta = layer_2_delta.dot(weight_1_2.T)*relu2drev(layer_1)\n",
    "\n",
    "\n",
    "        #change the wieghts\n",
    "        weight_0_1 -= alpha *layer_1.T.dot(layer_2_delta)\n",
    "        weight_1_2 -= alpha*layer_0.T.dot(layer_1_delta)\n",
    "    if(i % 10 ==9):\n",
    "        print(\"error:\"+str(layer_2_error))"
   ]
  },
  {
   "cell_type": "code",
   "execution_count": 6,
   "metadata": {},
   "outputs": [
    {
     "name": "stdout",
     "output_type": "stream",
     "text": [
      "error1.1046765522435662\n",
      "error1.0675201719779754\n",
      "error1.0400690043885754\n",
      "error0.9874195056409882\n",
      "error0.7730093094114814\n",
      "error0.5629341183365232\n"
     ]
    }
   ],
   "source": [
    "import numpy as np \n",
    "np.random.seed(1)\n",
    "def relu(x):\n",
    "    return (x>0) * x\n",
    "def relu2drev(output): \n",
    "    return output>0\n",
    "\n",
    "\n",
    "alpha = 0.2\n",
    "hiden_size = 4\n",
    "streetlight = np.array([[1,0,1],\n",
    "[0,1,1],\n",
    "[0,0,1],\n",
    "[1,1,1]])\n",
    "\n",
    "walk_vs_stop=np.array([[1,1,0,0]]).T\n",
    "\n",
    "weight_0_1 = 2*np.random.random((3,hiden_size))-1\n",
    "weight_1_2 = 2*np.random.random((hiden_size,1))-1\n",
    "\n",
    "# forward propogation \n",
    "for iterations in range(60):\n",
    "    layer_2_error = 0\n",
    "    for i in range(len(streetlight)):\n",
    "        layer_0 = streetlight[i:i+1]\n",
    "        layer_1 = relu(np.dot(layer_0,weight_0_1))\n",
    "        layer_2 = np.dot(layer_1,weight_1_2)\n",
    "\n",
    "        layer_2_error+= np.sum((layer_2 -walk_vs_stop[i:i+1])**2)\n",
    "\n",
    "        # back propogation\n",
    "        layer_2_delta = (layer_2-walk_vs_stop[i:i+1])\n",
    "\n",
    "        layer_1_delta = layer_2_delta.dot(weight_1_2.T)*relu(layer_1)\n",
    "        # print(layer_1_delta)\n",
    "        # print(\"############################\")\n",
    "        # get the wieghted delta \n",
    "        wight_delta_1_2 = layer_1.T.dot(layer_2_delta)\n",
    "        wieght_delta_0_1 = layer_0.T.dot(layer_1_delta)\n",
    "\n",
    "        #change the weights \n",
    "        weight_1_2 -= wight_delta_1_2 * alpha\n",
    "        weight_0_1 -= wieght_delta_0_1 * alpha\n",
    "    if (iterations %10 ==9):\n",
    "        print(\"error\" + str(layer_2_error))"
   ]
  },
  {
   "cell_type": "code",
   "execution_count": 2,
   "metadata": {},
   "outputs": [
    {
     "name": "stdout",
     "output_type": "stream",
     "text": [
      "[[0.59471828 0.20391504 0.64004479 0.07218429]\n",
      " [0.09231634 0.40434902 0.51861437 0.15645694]\n",
      " [0.44764939 0.06359552 0.70496686 0.57844511]]\n"
     ]
    }
   ],
   "source": [
    "import numpy as np\n",
    "test = np.random.random((3,4))\n",
    "print(test)\n"
   ]
  },
  {
   "cell_type": "code",
   "execution_count": 3,
   "metadata": {},
   "outputs": [
    {
     "name": "stdout",
     "output_type": "stream",
     "text": [
      "[[-0.40528172 -0.79608496 -0.35995521 -0.92781571]\n",
      " [-0.90768366 -0.59565098 -0.48138563 -0.84354306]\n",
      " [-0.55235061 -0.93640448 -0.29503314 -0.42155489]]\n"
     ]
    }
   ],
   "source": [
    "print(test-1)"
   ]
  },
  {
   "cell_type": "code",
   "execution_count": 8,
   "metadata": {},
   "outputs": [
    {
     "name": "stdout",
     "output_type": "stream",
     "text": [
      "[[1 0 1]]\n"
     ]
    }
   ],
   "source": [
    "print(streetlight[0:1])"
   ]
  },
  {
   "cell_type": "code",
   "execution_count": 9,
   "metadata": {},
   "outputs": [
    {
     "name": "stdout",
     "output_type": "stream",
     "text": [
      "[[0 1 1]]\n"
     ]
    }
   ],
   "source": [
    "print(streetlight[1:2\n",
    "])"
   ]
  },
  {
   "cell_type": "code",
   "execution_count": null,
   "metadata": {},
   "outputs": [],
   "source": []
  }
 ],
 "metadata": {
  "kernelspec": {
   "display_name": "Python 3.9.12 ('base')",
   "language": "python",
   "name": "python3"
  },
  "language_info": {
   "codemirror_mode": {
    "name": "ipython",
    "version": 3
   },
   "file_extension": ".py",
   "mimetype": "text/x-python",
   "name": "python",
   "nbconvert_exporter": "python",
   "pygments_lexer": "ipython3",
   "version": "3.9.12"
  },
  "orig_nbformat": 4,
  "vscode": {
   "interpreter": {
    "hash": "da43d63a06eccb5f054a604acbc197699510bdbe7db85fa81092a47d4a56d36d"
   }
  }
 },
 "nbformat": 4,
 "nbformat_minor": 2
}
